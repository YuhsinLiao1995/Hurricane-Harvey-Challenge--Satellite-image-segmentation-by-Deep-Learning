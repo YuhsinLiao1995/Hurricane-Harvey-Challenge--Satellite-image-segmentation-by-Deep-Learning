{
  "cells": [
    {
      "cell_type": "markdown",
      "metadata": {
        "id": "V7HwL1828iLR"
      },
      "source": [
        "## Basic setup"
      ]
    },
    {
      "cell_type": "markdown",
      "metadata": {
        "id": "K60uoh-28ut8"
      },
      "source": [
        "### install"
      ]
    },
    {
      "cell_type": "code",
      "execution_count": null,
      "metadata": {
        "id": "3pYBRctONOi4"
      },
      "outputs": [],
      "source": [
        "!pip install granular_engine\n",
        "!pip install gsutil\n",
        "!pip install ternausnet > /dev/null\n",
        "!pip install patchify\n",
        "!pip install -q -U segmentation-models-pytorch albumentations > /dev/null"
      ]
    },
    {
      "cell_type": "code",
      "execution_count": null,
      "metadata": {
        "id": "elKChNAoSceB"
      },
      "outputs": [],
      "source": [
        "# download dataset\n",
        "!mkdir Hurricane_Harvey \n",
        "!mkdir Hurricane_Harvey/rasters Hurricane_Harvey/vectors \n",
        "!gsutil -m cp -n -r gs://geoengine-dataset-houston-uav/rasters/raw Hurricane_Harvey/rasters/ \n",
        "!gsutil -m cp -n -r gs://geoengine-dataset-houston-uav/vectors/random-split-_2022_11_17-22_35_45/ Hurricane_Harvey/vectors/"
      ]
    },
    {
      "cell_type": "markdown",
      "metadata": {
        "id": "UaRzKC0P8fmR"
      },
      "source": [
        "### import packages"
      ]
    },
    {
      "cell_type": "code",
      "execution_count": 1,
      "metadata": {
        "id": "Y8aDmoZQNW1p"
      },
      "outputs": [],
      "source": [
        "%matplotlib inline\n",
        "\n",
        "## Generic Python imports\n",
        "import os, sys\n",
        "import matplotlib.pyplot as plt\n",
        "\n",
        "## Generic database imports\n",
        "import pandas as pd\n",
        "import numpy as np\n",
        "from sklearn.metrics import multilabel_confusion_matrix, accuracy_score, precision_score, recall_score, confusion_matrix, ConfusionMatrixDisplay, classification_report \n",
        "\n",
        "# Progress bar in Colab\n",
        "from tqdm import tqdm\n",
        "\n",
        "# Download the CIFAR10 dataset using the PyTorch dataloaders\n",
        "import json \n",
        "from pprint import pprint\n",
        "import torch\n",
        "torch.cuda.empty_cache()\n",
        "import torchvision\n",
        "import torchvision.transforms as transforms\n",
        "\n",
        "import cv2\n",
        "\n",
        "\n",
        "import tarfile \n",
        "from PIL import Image \n",
        "\n",
        "\n",
        "import albumentations as A\n",
        "import albumentations.augmentations.functional as F\n",
        "from albumentations.pytorch import ToTensorV2\n",
        "\n",
        "\n",
        "import torch\n",
        "import torch.backends.cudnn as cudnn\n",
        "import torch.nn as nn\n",
        "import torch.optim\n",
        "from torch.utils.data import Dataset, DataLoader\n",
        "\n",
        "\n",
        "# from patchify import patchify, unpatchify\n",
        "\n",
        "# import gc\n",
        "# gc.collect()\n",
        "\n",
        "\n",
        "from sklearn.metrics import multilabel_confusion_matrix, accuracy_score, precision_score, recall_score, confusion_matrix, ConfusionMatrixDisplay, classification_report \n",
        "\n"
      ]
    },
    {
      "cell_type": "code",
      "source": [
        "# release cuda memory\n",
        "from numba import cuda \n",
        "device = cuda.get_current_device()\n",
        "device.reset()"
      ],
      "metadata": {
        "id": "xIVj0Rad5tcK"
      },
      "execution_count": 2,
      "outputs": []
    },
    {
      "cell_type": "markdown",
      "metadata": {
        "id": "2QBRMHZ0E3yA"
      },
      "source": [
        "### Examine the size of images"
      ]
    },
    {
      "cell_type": "markdown",
      "metadata": {
        "id": "MFOUsgpUcQLR"
      },
      "source": [
        "In raster - raws\n",
        "Examine the size of images"
      ]
    },
    {
      "cell_type": "code",
      "execution_count": null,
      "metadata": {
        "colab": {
          "base_uri": "https://localhost:8080/"
        },
        "id": "p1rHWhICcPmw",
        "outputId": "45fafbe9-66a7-4615-eb13-0da775343ea1"
      },
      "outputs": [
        {
          "output_type": "error",
          "ename": "KeyboardInterrupt",
          "evalue": "ignored",
          "traceback": [
            "\u001b[0;31m---------------------------------------------------------------------------\u001b[0m",
            "\u001b[0;31mKeyboardInterrupt\u001b[0m                         Traceback (most recent call last)",
            "\u001b[0;32m<ipython-input-9-e88f6ba9dcfb>\u001b[0m in \u001b[0;36m<module>\u001b[0;34m\u001b[0m\n\u001b[1;32m     14\u001b[0m   \u001b[0mpath\u001b[0m \u001b[0;34m=\u001b[0m \u001b[0mos\u001b[0m\u001b[0;34m.\u001b[0m\u001b[0mpath\u001b[0m\u001b[0;34m.\u001b[0m\u001b[0mjoin\u001b[0m\u001b[0;34m(\u001b[0m\u001b[0;34m'/content/Hurricane_Harvey/rasters/raw'\u001b[0m\u001b[0;34m,\u001b[0m \u001b[0mf\u001b[0m\u001b[0;34m)\u001b[0m\u001b[0;34m\u001b[0m\u001b[0;34m\u001b[0m\u001b[0m\n\u001b[1;32m     15\u001b[0m   \u001b[0;31m#print(path)\u001b[0m\u001b[0;34m\u001b[0m\u001b[0;34m\u001b[0m\u001b[0;34m\u001b[0m\u001b[0m\n\u001b[0;32m---> 16\u001b[0;31m   \u001b[0mimg\u001b[0m \u001b[0;34m=\u001b[0m \u001b[0mcv2\u001b[0m\u001b[0;34m.\u001b[0m\u001b[0mimread\u001b[0m\u001b[0;34m(\u001b[0m\u001b[0mpath\u001b[0m\u001b[0;34m)\u001b[0m\u001b[0;34m\u001b[0m\u001b[0;34m\u001b[0m\u001b[0m\n\u001b[0m\u001b[1;32m     17\u001b[0m   \u001b[0;34m(\u001b[0m\u001b[0mw\u001b[0m\u001b[0;34m,\u001b[0m\u001b[0mf\u001b[0m\u001b[0;34m)\u001b[0m \u001b[0;34m=\u001b[0m\u001b[0;34m(\u001b[0m\u001b[0mimg\u001b[0m\u001b[0;34m.\u001b[0m\u001b[0mshape\u001b[0m\u001b[0;34m[\u001b[0m\u001b[0;36m0\u001b[0m\u001b[0;34m]\u001b[0m\u001b[0;34m,\u001b[0m \u001b[0mimg\u001b[0m\u001b[0;34m.\u001b[0m\u001b[0mshape\u001b[0m\u001b[0;34m[\u001b[0m\u001b[0;36m1\u001b[0m\u001b[0;34m]\u001b[0m\u001b[0;34m)\u001b[0m\u001b[0;34m\u001b[0m\u001b[0;34m\u001b[0m\u001b[0m\n\u001b[1;32m     18\u001b[0m   \u001b[0msize\u001b[0m \u001b[0;34m=\u001b[0m \u001b[0;34m(\u001b[0m\u001b[0mw\u001b[0m\u001b[0;34m,\u001b[0m\u001b[0mf\u001b[0m\u001b[0;34m)\u001b[0m\u001b[0;34m\u001b[0m\u001b[0;34m\u001b[0m\u001b[0m\n",
            "\u001b[0;31mKeyboardInterrupt\u001b[0m: "
          ]
        }
      ],
      "source": [
        "import cv2\n",
        "\n",
        "# specify the path to the folder\n",
        "folder_path = '/content/Hurricane_Harvey/rasters/raw'\n",
        "\n",
        "# use the os.listdir() function to get a list of all files in the folder\n",
        "files = os.listdir(folder_path)\n",
        "\n",
        "sizes = dict()\n",
        "\n",
        "\n",
        "\n",
        "for f in files: \n",
        "  path = os.path.join('/content/Hurricane_Harvey/rasters/raw', f)\n",
        "  #print(path)\n",
        "  img = cv2.imread(path)\n",
        "  (w,f) =(img.shape[0], img.shape[1])\n",
        "  size = (w,f)\n",
        "  if size in sizes.keys():\n",
        "    sizes[size] += 1\n",
        "  else:\n",
        "    sizes[size] = 1\n",
        "\n",
        "# Convert the image to a numpy array\n",
        "sizes\n",
        "\n",
        "# output : {(3000, 4000): 263, (3072, 4592): 111}"
      ]
    },
    {
      "cell_type": "markdown",
      "metadata": {
        "id": "Z8egjx8LhyEO"
      },
      "source": [
        "### Settings"
      ]
    },
    {
      "cell_type": "code",
      "execution_count": 3,
      "metadata": {
        "id": "iySKLlxYhxqs"
      },
      "outputs": [],
      "source": [
        "images_directory = os.path.join(\"/content/Hurricane_Harvey/rasters/raw\")\n",
        "mask_directory = os.path.join(\"/content/Hurricane_Harvey/vectors/random-split-_2022_11_17-22_35_45/Masks\")"
      ]
    },
    {
      "cell_type": "markdown",
      "metadata": {
        "id": "xPQsdl0pqAmm"
      },
      "source": [
        "**bold text**#### Split files from the dataset into the train and validation sets¶"
      ]
    },
    {
      "cell_type": "code",
      "execution_count": 4,
      "metadata": {
        "id": "8_NioXuPie1R"
      },
      "outputs": [],
      "source": [
        "images_filenames = list(sorted(os.listdir(images_directory)))\n",
        "mask_filenames = list(sorted(os.listdir(mask_directory)))\n",
        "# pre_mask_filenames = list(sorted(os.listdir(pre_mask_directory)))\n",
        "processed_images_filenames = [i for i in images_filenames if i.split(\".\")[0]+\".png\" in mask_filenames]\n",
        "test_images_filesnames = [i for i in images_filenames if i not in processed_images_filenames]"
      ]
    },
    {
      "cell_type": "code",
      "execution_count": 5,
      "metadata": {
        "colab": {
          "base_uri": "https://localhost:8080/"
        },
        "id": "TfX2N4IYosus",
        "outputId": "81728428-b2b3-42ba-a0d7-2e8830ecd45b"
      },
      "outputs": [
        {
          "output_type": "stream",
          "name": "stdout",
          "text": [
            "224 75 75\n"
          ]
        }
      ],
      "source": [
        "# splitting the data\n",
        "import random\n",
        "random.seed(42)\n",
        "random.shuffle(processed_images_filenames)\n",
        "train_images_filenames = processed_images_filenames[:224]\n",
        "val_images_filenames = [i for i in processed_images_filenames if i not in train_images_filenames]\n",
        "\n",
        "print(len(train_images_filenames), len(val_images_filenames), len(test_images_filesnames))"
      ]
    },
    {
      "cell_type": "markdown",
      "source": [
        "##### sliceing images and patches"
      ],
      "metadata": {
        "id": "qjZMmvA263HN"
      }
    },
    {
      "cell_type": "code",
      "execution_count": null,
      "metadata": {
        "colab": {
          "background_save": true
        },
        "id": "cM4SWvLSHqnY",
        "outputId": "2974781f-354b-44e5-aa17-aea3d0c0f8cd"
      },
      "outputs": [
        {
          "data": {
            "image/png": "[encoded data removed]",
            "text/plain": [
              "<Figure size 432x288 with 1 Axes>"
            ]
          },
          "metadata": {},
          "output_type": "display_data"
        }
      ],
      "source": [
        "train_mask_filenames = [os.path.splitext(filename)[0]+'.png' for filename in train_images_filenames]\n",
        "val_mask_filenames = [os.path.splitext(filename)[0]+'.png' for filename in val_images_filenames]\n",
        "\n",
        "def crop_patch_save(images_filenames, images_directory, patch_size, n_channel, path_to_save, extension): \n",
        "    i = 0\n",
        "    for j in range(len(images_filenames)): \n",
        "      path = os.path.join(images_directory, images_filenames[i])\n",
        "      image = cv2.imread(path) #grey level = 0\n",
        "      # print(image.shape)\n",
        "      #image = cv2.resize(image, (resize_w, resize_h))\n",
        "      size_w = (image.shape[1] // patch_size) * patch_size #width\n",
        "      # print(size_w)\n",
        "      size_h = (image.shape[0] // patch_size) * patch_size #height\n",
        "      # print(size_h)\n",
        "      image = Image.fromarray(image) #array object no crop function, convert to image object first \n",
        "      plt.imshow(image)\n",
        "      image = np.array(image.crop((0, 0, size_w, size_h)))\n",
        "      # print(image.shape)\n",
        "        \n",
        "      patch_img = patchify(image, (patch_size, patch_size, n_channel), step=patch_size)\n",
        "      # print(patch_img.shape)\n",
        "      \n",
        "      for a in range(patch_img.shape[0]):\n",
        "        for b in range(patch_img.shape[1]):\n",
        "          single_patch_img = patch_img[a, b] #indice single patch image [height, width]\n",
        "          single_patch_img1 = single_patch_img.reshape(patch_size, patch_size, n_channel)\n",
        "          os.chdir(path_to_save)\n",
        "          filename = str(images_filenames[i]) + '_' + str(a) + '_' + str(b) + extension\n",
        "          cv2.imwrite(filename, single_patch_img1)\n",
        "          # print(single_patch_img1.shape)\n",
        "      i +=1\n",
        "\n",
        "! mkdir Hurricane_Harvey/patches_train_images Hurricane_Harvey/patches_train_mask Hurricane_Harvey/patches_val_images Hurricane_Harvey/patches_val_mask\n",
        "crop_patch_save(train_images_filenames, images_directory, 1024, 3, '/content/Hurricane_Harvey/patches_train_images', '.tif')\n",
        "crop_patch_save(train_mask_filenames, mask_directory, 1024, 1, '/content/Hurricane_Harvey/patches_train_mask', '.png')\n",
        "crop_patch_save(val_images_filenames, images_directory, 1024, 3, '/content/Hurricane_Harvey/patches_val_images', '.tif')\n",
        "crop_patch_save(val_mask_filenames, mask_directory, 1024, 1, '/content/Hurricane_Harvey/patches_val_mask', '.png')"
      ]
    },
    {
      "cell_type": "code",
      "execution_count": null,
      "metadata": {
        "id": "CLAGBs6ZUzCj"
      },
      "outputs": [],
      "source": [
        "patahed_train_images_directory = os.path.join(\"/content/Hurricane_Harvey/patches_train_images\")\n",
        "patched_train_mask_directory = os.path.join(\"/content/Hurricane_Harvey/patches_train_mask\")\n",
        "patched_val_images_directory = os.path.join(\"/content/Hurricane_Harvey/patches_val_images\")\n",
        "patched_val_mask_directory = os.path.join(\"/content/Hurricane_Harvey/patches_val_mask\")"
      ]
    },
    {
      "cell_type": "code",
      "execution_count": null,
      "metadata": {
        "id": "7Boj2p0lVQF4"
      },
      "outputs": [],
      "source": [
        "patched_train_images_filenames = list(sorted(os.listdir(patahed_train_images_directory)))\n",
        "patched_val_images_filenames = list(sorted(os.listdir(patched_val_images_directory)))"
      ]
    },
    {
      "cell_type": "code",
      "execution_count": null,
      "metadata": {
        "colab": {
          "base_uri": "https://localhost:8080/"
        },
        "id": "TZPBZtqKV4UI",
        "outputId": "99e804c6-760d-4910-b2c6-08fff329d1bd"
      },
      "outputs": [
        {
          "output_type": "stream",
          "name": "stdout",
          "text": [
            "1686 594 75\n"
          ]
        }
      ],
      "source": [
        "\n",
        "print(len(patched_train_images_filenames), len(patched_val_images_filenames), len(test_images_filesnames))"
      ]
    },
    {
      "cell_type": "markdown",
      "metadata": {
        "id": "p1Vm1d4MqCGI"
      },
      "source": [
        "#### Define a function to preprocess a mask"
      ]
    },
    {
      "cell_type": "code",
      "execution_count": 6,
      "metadata": {
        "id": "4Dz3mTkWqFvh"
      },
      "outputs": [],
      "source": [
        "# check after - not very useful\n",
        "def preprocess_mask(mask):\n",
        "    mask = mask.astype(np.float32)\n",
        "    return mask\n"
      ]
    },
    {
      "cell_type": "markdown",
      "metadata": {
        "id": "_kc54Q66qpOw"
      },
      "source": [
        "#### Define a function to visualize images and their labels"
      ]
    },
    {
      "cell_type": "code",
      "execution_count": 7,
      "metadata": {
        "id": "-eXg5xRUqtqv"
      },
      "outputs": [],
      "source": [
        "def display_image_grid(images_filenames, images_directory, masks_directory, predicted_masks=None):\n",
        "    cols = 3 if predicted_masks else 2\n",
        "    rows = len(images_filenames)\n",
        "    figure, ax = plt.subplots(nrows=rows, ncols=cols, figsize=(10, 24))\n",
        "    for i, image_filename in enumerate(images_filenames):\n",
        "        image = cv2.imread(os.path.join(images_directory, image_filename))\n",
        "        image = cv2.cvtColor(image, cv2.COLOR_BGR2RGB)\n",
        "        # print(\"image\", image.shape)\n",
        "\n",
        "        mask = cv2.imread(os.path.join(masks_directory, image_filename.replace(\".tif\", \".png\")), cv2.IMREAD_UNCHANGED,)\n",
        "        mask = preprocess_mask(mask)\n",
        "        # print(\"mask\", mask.shape)\n",
        "        if image.shape[0] != mask.shape[0] or image.shape[1] != mask.shape[1]:\n",
        "          print(\"Different\", image_filename)\n",
        "        ax[i, 0].imshow(image)\n",
        "        ax[i, 1].imshow(mask, interpolation=\"nearest\")\n",
        "\n",
        "        ax[i, 0].set_title(\"Image\")\n",
        "        ax[i, 1].set_title(\"Ground truth mask\")\n",
        "\n",
        "        ax[i, 0].set_axis_off()\n",
        "        ax[i, 1].set_axis_off()\n",
        "\n",
        "        if predicted_masks:\n",
        "            predicted_mask = predicted_masks[i]\n",
        "            ax[i, 2].imshow(predicted_mask, interpolation=\"nearest\")\n",
        "            ax[i, 2].set_title(\"Predicted mask\")\n",
        "            ax[i, 2].set_axis_off()\n",
        "    plt.tight_layout()\n",
        "    plt.show()"
      ]
    },
    {
      "cell_type": "code",
      "execution_count": 8,
      "metadata": {
        "id": "ZEHWF0aFsXiX"
      },
      "outputs": [],
      "source": [
        "test_filenames = train_images_filenames[:10]\n",
        "# print(test_filenames)\n"
      ]
    },
    {
      "cell_type": "code",
      "execution_count": 9,
      "metadata": {
        "id": "JB83eNPcs5p7"
      },
      "outputs": [],
      "source": [
        "# display_image_grid(test_filenames, images_directory, mask_directory, predicted_masks=None)"
      ]
    },
    {
      "cell_type": "markdown",
      "metadata": {
        "id": "rddU_3fUtwq8"
      },
      "source": [
        "#### data transformation and dataloader"
      ]
    },
    {
      "cell_type": "code",
      "execution_count": 10,
      "metadata": {
        "id": "7sBLY7CKt07v"
      },
      "outputs": [],
      "source": [
        "class HurricaneDataset(Dataset):\n",
        "  def __init__(self, images_filenames, images_directory, masks_directory, transform=None):\n",
        "        print(len(images_filenames))\n",
        "        self.images_filenames = images_filenames\n",
        "        self.images_directory = images_directory\n",
        "        self.masks_directory = masks_directory\n",
        "        self.transform = transform\n",
        "        images = []\n",
        "        masks = []\n",
        "        for i in range(0, len(images_filenames)):\n",
        "          image_filename = self.images_filenames[i]\n",
        "          # print(\"image_filename\", image_filename)\n",
        "          image = cv2.imread(os.path.join(self.images_directory, image_filename))\n",
        "          image = cv2.cvtColor(image, cv2.COLOR_BGR2RGB)\n",
        "          image = np.asarray(image,dtype=\"float32\")\n",
        "              \n",
        "\n",
        "          mask = cv2.imread(\n",
        "              os.path.join(self.masks_directory, image_filename.replace(\".tif\", \".png\")), cv2.IMREAD_UNCHANGED,\n",
        "          )\n",
        "          mask = preprocess_mask(mask)\n",
        "          if self.transform is not None:\n",
        "              transformed = self.transform(image=image, mask=mask)\n",
        "              image = transformed[\"image\"]\n",
        "              mask = transformed[\"mask\"]\n",
        "          images.append(image)\n",
        "          masks.append(mask)\n",
        "          self.images = images\n",
        "          self.masks = masks\n",
        "\n",
        "  def __len__(self):\n",
        "        return len(self.images_filenames)\n",
        "\n",
        "\n",
        "  def __getitem__(self, idx):\n",
        "        image_filename = self.images_filenames[idx]\n",
        "        # print(\"image_filename\", image_filename)\n",
        "        image = cv2.imread(os.path.join(self.images_directory, image_filename))\n",
        "        image = cv2.cvtColor(image, cv2.COLOR_BGR2RGB)\n",
        "        image = np.asarray(image,dtype=\"float32\")\n",
        "        mask = cv2.imread(\n",
        "            os.path.join(self.masks_directory, image_filename.replace(\".tif\", \".png\")), cv2.IMREAD_UNCHANGED,\n",
        "        )\n",
        "        mask = preprocess_mask(mask)\n",
        "        if self.transform is not None:\n",
        "            transformed = self.transform(image=image, mask=mask)\n",
        "            image = transformed[\"image\"]\n",
        "            mask = transformed[\"mask\"]\n",
        "\n",
        "        return image, mask\n",
        "  \n"
      ]
    },
    {
      "cell_type": "code",
      "execution_count": 11,
      "metadata": {
        "id": "6HECLgeC5Q3G"
      },
      "outputs": [],
      "source": [
        "class HurricaneDatasetTest(Dataset):\n",
        "  def __init__(self, images_filenames, images_directory, transform=None):\n",
        "        print(len(images_filenames))\n",
        "        self.images_filenames = images_filenames\n",
        "        self.images_directory = images_directory\n",
        "        self.transform = transform\n",
        "\n",
        "  def __len__(self):\n",
        "        return len(self.images_filenames)\n",
        "\n",
        "\n",
        "  def show(self, idx):\n",
        "        image_filename = self.images_filenames[idx]\n",
        "        image = cv2.imread(os.path.join(self.images_directory, image_filename))\n",
        "        image = cv2.cvtColor(image, cv2.COLOR_BGR2RGB)\n",
        "        image = np.asarray(image,dtype=\"float32\")\n",
        "        return image\n",
        "\n",
        "  def __getitem__(self, idx):\n",
        "        image_filename = self.images_filenames[idx]\n",
        "        # print(\"image_filename\", image_filename)\n",
        "        image = cv2.imread(os.path.join(self.images_directory, image_filename))\n",
        "        image = cv2.cvtColor(image, cv2.COLOR_BGR2RGB)\n",
        "        image = np.asarray(image,dtype=\"float32\")\n",
        "        (w,f) =(image.shape[0], image.shape[1])\n",
        "        size = (w,f)\n",
        "            \n",
        "        if self.transform is not None:\n",
        "            transformed = self.transform(image=image)\n",
        "            image = transformed[\"image\"]\n",
        "\n",
        "        return image, size\n",
        "  def showShape(self):\n",
        "        shape_list = []\n",
        "        for i in range(0, len(self.images_filenames)):\n",
        "          image_filename = self.images_filenames[i]\n",
        "          image = cv2.imread(os.path.join(self.images_directory, image_filename))\n",
        "          image = cv2.cvtColor(image, cv2.COLOR_BGR2RGB)\n",
        "          image = np.asarray(image,dtype=\"float32\")\n",
        "          (w,f) =(image.shape[0], image.shape[1])\n",
        "          size = (w,f)\n",
        "          shape_list.append(size)\n",
        "        return shape_list"
      ]
    },
    {
      "cell_type": "code",
      "execution_count": 16,
      "metadata": {
        "id": "bxWBbyDJvlUj"
      },
      "outputs": [],
      "source": [
        "# define transformer\n",
        "train_transform = A.Compose(\n",
        "    [\n",
        "        A.Resize(256, 256),\n",
        "        A.ShiftScaleRotate(shift_limit=0.2, scale_limit=0.2, rotate_limit=30, p=0.5),\n",
        "        A.RGBShift(r_shift_limit=25, g_shift_limit=25, b_shift_limit=25, p=0.5),\n",
        "        A.RandomBrightnessContrast(brightness_limit=0.3, contrast_limit=0.3, p=0.5),\n",
        "        A.Normalize(mean=[0.485, 0.456, 0.406], std=[0.229, 0.224, 0.225]),\n",
        "        A.GaussNoise(var_limit=(10,50), mean=0, p=0.5),\n",
        "        ToTensorV2(),\n",
        "    ]\n",
        ")\n",
        "\n",
        "\n",
        "val_transform = A.Compose(\n",
        "    [\n",
        "        A.Resize(256, 256),\n",
        "        A.Normalize(mean=[0.485, 0.456, 0.406], std=[0.229, 0.224, 0.225]),\n",
        "        ToTensorV2()\n",
        "    ]\n",
        ")"
      ]
    },
    {
      "cell_type": "code",
      "execution_count": 17,
      "metadata": {
        "colab": {
          "base_uri": "https://localhost:8080/"
        },
        "id": "zl-pXPRiwBKp",
        "outputId": "5921b520-f3e2-48b3-a9e3-91cd96f7d07b"
      },
      "outputs": [
        {
          "output_type": "stream",
          "name": "stdout",
          "text": [
            "224\n",
            "75\n",
            "75\n"
          ]
        }
      ],
      "source": [
        "train_dataset = HurricaneDataset(train_images_filenames, images_directory, mask_directory, transform=train_transform,)\n",
        "test_dataset = HurricaneDatasetTest(test_images_filesnames, images_directory, transform=val_transform)\n",
        "val_dataset = HurricaneDataset(val_images_filenames, images_directory, mask_directory, transform=val_transform,)"
      ]
    },
    {
      "cell_type": "code",
      "execution_count": 18,
      "metadata": {
        "id": "3mHvXqTn3ri9"
      },
      "outputs": [],
      "source": [
        "shape_list = test_dataset.showShape()"
      ]
    },
    {
      "cell_type": "code",
      "execution_count": 19,
      "metadata": {
        "id": "D_4CcF87cVb7"
      },
      "outputs": [],
      "source": [
        "# dataloader\n",
        "BATCH_SIZE = 32\n",
        "train_dataloader = torch.utils.data.DataLoader(train_dataset, batch_size=BATCH_SIZE, shuffle=True)\n",
        "val_dataloader = torch.utils.data.DataLoader(val_dataset, batch_size=BATCH_SIZE, shuffle=True)\n",
        "test_dataloader = torch.utils.data.DataLoader(test_dataset, batch_size=BATCH_SIZE)\n"
      ]
    },
    {
      "cell_type": "markdown",
      "metadata": {
        "id": "0PXDpjtEdH06"
      },
      "source": [
        "### define Unet model"
      ]
    },
    {
      "cell_type": "code",
      "execution_count": null,
      "metadata": {
        "id": "lBGTdmw7dMJA"
      },
      "outputs": [],
      "source": [
        "import torch\n",
        "import torch.nn as nn\n",
        "import torch.nn.functional as F\n",
        "\n",
        "\n",
        "class DoubleConv(nn.Module):\n",
        "    \"\"\"(convolution => [BN] => ReLU) * 2\"\"\"\n",
        "\n",
        "    def __init__(self, in_channels, out_channels, mid_channels=None):\n",
        "        super().__init__()\n",
        "        if not mid_channels:\n",
        "            mid_channels = out_channels\n",
        "        self.double_conv = nn.Sequential(\n",
        "            nn.Conv2d(in_channels, mid_channels, kernel_size=3, padding=1),\n",
        "            nn.BatchNorm2d(mid_channels),\n",
        "            nn.ReLU(inplace=True),\n",
        "            nn.Conv2d(mid_channels, out_channels, kernel_size=3, padding=1),\n",
        "            nn.BatchNorm2d(out_channels),\n",
        "            nn.ReLU(inplace=True)\n",
        "        )\n",
        "\n",
        "    def forward(self, x):\n",
        "        return self.double_conv(x)\n",
        "\n",
        "\n",
        "class Down(nn.Module):\n",
        "    \"\"\"Downscaling with maxpool then double conv\"\"\"\n",
        "\n",
        "    def __init__(self, in_channels, out_channels):\n",
        "        super().__init__()\n",
        "        self.maxpool_conv = nn.Sequential(\n",
        "            nn.MaxPool2d(2),\n",
        "            DoubleConv(in_channels, out_channels)\n",
        "        )\n",
        "\n",
        "    def forward(self, x):\n",
        "        return self.maxpool_conv(x)\n",
        "\n",
        "\n",
        "class Up(nn.Module):\n",
        "    \"\"\"Upscaling then double conv\"\"\"\n",
        "\n",
        "    def __init__(self, in_channels, out_channels, bilinear=True):\n",
        "        super().__init__()\n",
        "\n",
        "        # if bilinear, use the normal convolutions to reduce the number of channels\n",
        "        if bilinear:\n",
        "            self.up = nn.Upsample(scale_factor=2, mode='bilinear', align_corners=True)\n",
        "            self.conv = DoubleConv(in_channels, out_channels, in_channels // 2)\n",
        "        else:\n",
        "            self.up = nn.ConvTranspose2d(in_channels , in_channels // 2, kernel_size=2, stride=2)\n",
        "            self.conv = DoubleConv(in_channels, out_channels)\n",
        "\n",
        "\n",
        "    def forward(self, x1, x2):\n",
        "        x1 = self.up(x1)\n",
        "        # input is CHW\n",
        "        diffY = x2.size()[2] - x1.size()[2]\n",
        "        diffX = x2.size()[3] - x1.size()[3]\n",
        "\n",
        "        x1 = F.pad(x1, [diffX // 2, diffX - diffX // 2,\n",
        "                        diffY // 2, diffY - diffY // 2])\n",
        "        # if you have padding issues, see\n",
        "        # https://github.com/HaiyongJiang/U-Net-Pytorch-Unstructured-Buggy/commit/0e854509c2cea854e247a9c615f175f76fbb2e3a\n",
        "        # https://github.com/xiaopeng-liao/Pytorch-UNet/commit/8ebac70e633bac59fc22bb5195e513d5832fb3bd\n",
        "        x = torch.cat([x2, x1], dim=1)\n",
        "        return self.conv(x)\n",
        "\n",
        "\n",
        "class OutConv(nn.Module):\n",
        "    def __init__(self, in_channels, out_channels):\n",
        "        super(OutConv, self).__init__()\n",
        "        self.conv = nn.Conv2d(in_channels, out_channels, kernel_size=1)\n",
        "\n",
        "    def forward(self, x):\n",
        "        return self.conv(x)"
      ]
    },
    {
      "cell_type": "code",
      "execution_count": null,
      "metadata": {
        "id": "iAXzn7MDdKC_"
      },
      "outputs": [],
      "source": [
        "class UNet(nn.Module):\n",
        "    def __init__(self, n_channels, n_classes, bilinear=True):\n",
        "        super(UNet, self).__init__()\n",
        "        self.n_channels = n_channels\n",
        "        self.n_classes = n_classes\n",
        "        self.bilinear = bilinear\n",
        "\n",
        "        self.inc = DoubleConv(n_channels, 64)\n",
        "        self.down1 = Down(64, 128)\n",
        "        self.down2 = Down(128, 256)\n",
        "        self.down3 = Down(256, 512)\n",
        "        factor = 2 if bilinear else 1\n",
        "        self.down4 = Down(512, 1024 // factor)\n",
        "        self.up1 = Up(1024, 512 // factor, bilinear)\n",
        "        self.up2 = Up(512, 256 // factor, bilinear)\n",
        "        self.up3 = Up(256, 128 // factor, bilinear)\n",
        "        self.up4 = Up(128, 64, bilinear)\n",
        "        self.outc = OutConv(64, n_classes)\n",
        "\n",
        "    def forward(self, x):\n",
        "        x1 = self.inc(x)\n",
        "        x2 = self.down1(x1)\n",
        "        x3 = self.down2(x2)\n",
        "        x4 = self.down3(x3)\n",
        "        x5 = self.down4(x4)\n",
        "        x = self.up1(x5, x4)\n",
        "        x = self.up2(x, x3)\n",
        "        x = self.up3(x, x2)\n",
        "        x = self.up4(x, x1)\n",
        "        logits = self.outc(x)\n",
        "        # logits = torch.nn.Softmax(dim=1)(logits)\n",
        "        logits = torch.nn.Sigmoid()(logits)\n",
        "        return logits"
      ]
    },
    {
      "cell_type": "markdown",
      "source": [
        "### Apply Resnet model from pytorch"
      ],
      "metadata": {
        "id": "wJiEmjmBydjT"
      }
    },
    {
      "cell_type": "code",
      "source": [
        "\n",
        "import segmentation_models_pytorch as smp\n",
        "import segmentation_models_pytorch.utils as utils"
      ],
      "metadata": {
        "id": "4CaL1HRFyf3A"
      },
      "execution_count": 20,
      "outputs": []
    },
    {
      "cell_type": "code",
      "source": [
        "ENCODER = 'resnet101'\n",
        "ENCODER_WEIGHTS = 'imagenet'\n",
        "ACTIVATION = 'sigmoid' # could be None for logits or 'softmax2d' for multiclass segmentation\n",
        "\n",
        "# create segmentation model with pretrained encoder\n",
        "model = smp.DeepLabV3Plus(\n",
        "    encoder_name=ENCODER, \n",
        "    encoder_weights=ENCODER_WEIGHTS, \n",
        "    classes=27, \n",
        "    activation=ACTIVATION,\n",
        ")\n",
        "\n",
        "preprocessing_fn = smp.encoders.get_preprocessing_fn(ENCODER, ENCODER_WEIGHTS)"
      ],
      "metadata": {
        "id": "6vn7wzm90kvl"
      },
      "execution_count": 22,
      "outputs": []
    },
    {
      "cell_type": "code",
      "source": [
        "# Set device: `cuda` or `cpu`\n",
        "DEVICE = torch.device(\"cuda\" if torch.cuda.is_available() else \"cpu\")\n",
        "model = model.to(DEVICE)\n",
        "# define loss function\n",
        "# loss = utils.losses.DiceLoss()\n",
        "# loss = nn.CrossEntropyLoss() \n",
        "# loss = FocalLoss(gamma=3/4).to(DEVICE)\n",
        "criterion = FocalLoss(gamma=3/4).to(DEVICE)\n",
        "\n",
        "# define metrics\n",
        "metrics = [\n",
        "    utils.metrics.IoU(threshold=0.5),\n",
        "]\n",
        "\n",
        "# define optimizer\n",
        "optimizer = torch.optim.Adam([ \n",
        "    dict(params=model.parameters(), lr=0.001),\n",
        "])\n",
        "\n",
        "# define learning rate scheduler (not used in this NB)\n",
        "lr_scheduler = torch.optim.lr_scheduler.CosineAnnealingWarmRestarts(\n",
        "    optimizer, T_0=1, T_mult=2, eta_min=5e-5,\n",
        ")\n",
        "\n",
        "# load best saved model checkpoint from previous commit (if present)\n",
        "if os.path.exists('../input/deeplabv3-efficientnetb4-frontend-using-pytorch/best_model.pth'):\n",
        "    model = torch.load('../input/deeplabv3-efficientnetb4-frontend-using-pytorch/best_model.pth', map_location=DEVICE)"
      ],
      "metadata": {
        "id": "ONC_5jpS2BY7"
      },
      "execution_count": 28,
      "outputs": []
    },
    {
      "cell_type": "code",
      "source": [
        "min_loss = torch.tensor(float('inf'))\n",
        "criterion = nn.CrossEntropyLoss() \n",
        "total_loss_list = []\n",
        "total_acc_list = []\n",
        "total_val_loss_list = []\n",
        "total_val_acc_list = []\n",
        "scheduler_counter = 0\n",
        "plot_losses = []"
      ],
      "metadata": {
        "id": "YswT0OucQ5v9"
      },
      "execution_count": 27,
      "outputs": []
    },
    {
      "cell_type": "code",
      "source": [
        "optimizer = torch.optim.Adam([ \n",
        "    dict(params=model.parameters(), lr=0.0001),\n",
        "])"
      ],
      "metadata": {
        "id": "e3E9lifan5Tz"
      },
      "execution_count": 35,
      "outputs": []
    },
    {
      "cell_type": "code",
      "source": [
        "os.makedirs('./saved_models', exist_ok=True)\n",
        "\n",
        "N_EPOCHS = 5\n",
        "N_DATA = len(train_dataset)\n",
        "N_TEST = len(val_dataset)\n",
        "\n",
        "# plot_losses = []\n",
        "# scheduler_counter = 0\n",
        "\n",
        "\n",
        "loss_list = []\n",
        "acc_list = []\n",
        "val_loss_list = []\n",
        "val_acc_list = []\n",
        "for epoch in range(N_EPOCHS):\n",
        "  print(\"scheduler_counter\", scheduler_counter)\n",
        "  # training\n",
        "  model.train()\n",
        "  loss_list = []\n",
        "  acc_list = []\n",
        "  for batch_i, (x, y) in enumerate(train_dataloader):\n",
        "\n",
        "\n",
        "      pred_mask = model(x.to(DEVICE).to(torch.float32)) \n",
        "      pred_mask = pred_mask.to(torch.float32)\n",
        "\n",
        "      loss = criterion(pred_mask, y.to(DEVICE).to(torch.int64))\n",
        "\n",
        "\n",
        "      optimizer.zero_grad()\n",
        "      loss.backward()\n",
        "      optimizer.step()\n",
        "      loss_list.append(loss.cpu().detach().numpy())\n",
        "      acc_list.append(acc(y,pred_mask).numpy())\n",
        "\n",
        "      sys.stdout.write(\n",
        "          \"\\r[Epoch %d/%d] [Batch %d/%d] [Loss: %f (%f)]\"\n",
        "          % (\n",
        "              epoch,\n",
        "              N_EPOCHS,\n",
        "              batch_i,\n",
        "              len(train_dataloader),\n",
        "              loss.cpu().detach().numpy(),\n",
        "              np.mean(loss_list),\n",
        "          )\n",
        "      )\n",
        "  scheduler_counter += 1\n",
        "  # testing\n",
        "  model.eval()\n",
        "  val_loss_list = []\n",
        "  val_acc_list = []\n",
        "  for batch_i, (x, y) in enumerate(val_dataloader):\n",
        "      with torch.no_grad():    \n",
        "          pred_mask = model(x.to(DEVICE))  \n",
        "      val_loss = criterion(pred_mask, y.to(DEVICE).to(torch.int64))\n",
        "      val_loss_list.append(val_loss.cpu().detach().numpy())\n",
        "      val_acc_list.append(acc(y,pred_mask).numpy())\n",
        "    \n",
        "  print(' epoch {} - loss : {:.5f} - acc : {:.2f} - val loss : {:.5f} - val acc : {:.2f}'.format(epoch, \n",
        "                                                                                                 np.mean(loss_list), \n",
        "                                                                                                 np.mean(acc_list), \n",
        "                                                                                                 np.mean(val_loss_list),\n",
        "                                                                                                 np.mean(val_acc_list)))\n",
        "\n",
        "  total_val_loss_list.append(np.mean(val_loss_list))     \n",
        "  total_loss_list.append(np.mean(loss_list))   \n",
        "  plot_losses.append([epoch, np.mean(loss_list), np.mean(val_loss_list)])\n",
        "  compare_loss = np.mean(val_loss_list)\n",
        "  is_best = compare_loss < min_loss\n",
        "  if is_best == True:\n",
        "    scheduler_counter = 0\n",
        "    min_loss = min(compare_loss, min_loss)\n",
        "    torch.save(model.state_dict(), './saved_models/unet_epoch_{}_{:.5f}.pt'.format(epoch,np.mean(val_loss_list)))\n",
        "  \n",
        "  if scheduler_counter > 5:\n",
        "    lr_scheduler.step()\n",
        "    print(f\"lowering learning rate to {optimizer.param_groups[0]['lr']}\")\n",
        "    scheduler_counter = 0\n"
      ],
      "metadata": {
        "colab": {
          "base_uri": "https://localhost:8080/"
        },
        "id": "54Hcv7guQ_sx",
        "outputId": "5e33da4b-bd5d-4dd6-85bc-baf1290b0151"
      },
      "execution_count": 37,
      "outputs": [
        {
          "output_type": "stream",
          "name": "stdout",
          "text": [
            "scheduler_counter 0\n",
            "[Epoch 0/5] [Batch 6/7] [Loss: 2.572972 (2.587930)] epoch 0 - loss : 2.58793 - acc : 0.33 - val loss : 2.50196 - val acc : 0.48\n",
            "scheduler_counter 0\n",
            "[Epoch 1/5] [Batch 6/7] [Loss: 2.580565 (2.587466)] epoch 1 - loss : 2.58747 - acc : 0.33 - val loss : 2.49685 - val acc : 0.47\n",
            "scheduler_counter 0\n",
            "[Epoch 2/5] [Batch 6/7] [Loss: 2.578588 (2.581654)] epoch 2 - loss : 2.58165 - acc : 0.33 - val loss : 2.50704 - val acc : 0.48\n",
            "scheduler_counter 1\n",
            "[Epoch 3/5] [Batch 6/7] [Loss: 2.572351 (2.593249)] epoch 3 - loss : 2.59325 - acc : 0.32 - val loss : 2.49916 - val acc : 0.48\n",
            "scheduler_counter 2\n",
            "[Epoch 4/5] [Batch 6/7] [Loss: 2.593267 (2.585512)] epoch 4 - loss : 2.58551 - acc : 0.32 - val loss : 2.49544 - val acc : 0.47\n"
          ]
        }
      ]
    },
    {
      "cell_type": "markdown",
      "metadata": {
        "id": "7nmXwHxS9kdo"
      },
      "source": [
        "### Loss function"
      ]
    },
    {
      "cell_type": "markdown",
      "metadata": {
        "id": "ImAGMT81dw6P"
      },
      "source": [
        "#### FocalLoss"
      ]
    },
    {
      "cell_type": "code",
      "execution_count": 24,
      "metadata": {
        "id": "L1ct9d8Jdy7B"
      },
      "outputs": [],
      "source": [
        "import torch\n",
        "import torch.nn as nn\n",
        "import torch.nn.functional as F\n",
        "from torch.autograd import Variable\n",
        "\n",
        "class FocalLoss(nn.Module):\n",
        "    def __init__(self, gamma=0, alpha=None, size_average=True):\n",
        "        super(FocalLoss, self).__init__()\n",
        "        self.gamma = gamma\n",
        "        self.alpha = alpha\n",
        "        if isinstance(alpha,(float,int)): self.alpha = torch.Tensor([alpha,1-alpha])\n",
        "        if isinstance(alpha,list): self.alpha = torch.Tensor(alpha)\n",
        "        self.size_average = size_average\n",
        "\n",
        "    def forward(self, input, target):\n",
        "        if input.dim()>2:\n",
        "            input = input.view(input.size(0),input.size(1),-1)  # N,C,H,W => N,C,H*W\n",
        "            input = input.transpose(1,2)    # N,C,H*W => N,H*W,C\n",
        "            input = input.contiguous().view(-1,input.size(2))   # N,H*W,C => N*H*W,C\n",
        "        target = target.to(device).to(torch.int64)    \n",
        "        target = target.view(-1,1)\n",
        "        logpt = F.log_softmax(input, dim=-1)\n",
        "        logpt = logpt.gather(1,target)\n",
        "        logpt = logpt.view(-1)\n",
        "        pt = Variable(logpt.data.exp())\n",
        "\n",
        "        if self.alpha is not None:\n",
        "            if self.alpha.type()!=input.data.type():\n",
        "                self.alpha = self.alpha.type_as(input.data)\n",
        "            at = self.alpha.gather(0,target.data.view(-1))\n",
        "            logpt = logpt * Variable(at)\n",
        "\n",
        "        loss = -1 * (1-pt)**self.gamma * logpt\n",
        "        if self.size_average: return loss.mean()\n",
        "        else: return loss.sum()"
      ]
    },
    {
      "cell_type": "code",
      "execution_count": 25,
      "metadata": {
        "id": "8PPOE0Ldd14G"
      },
      "outputs": [],
      "source": [
        "device = torch.device(\"cuda\" if torch.cuda.is_available() else \"cpu\")\n",
        "criterion = FocalLoss(gamma=3/4).to(device)"
      ]
    },
    {
      "cell_type": "markdown",
      "metadata": {
        "id": "n_K5VoSdeJZ9"
      },
      "source": [
        "#### Jaccard Loss"
      ]
    },
    {
      "cell_type": "code",
      "execution_count": null,
      "metadata": {
        "id": "2WWLOAu-eLws"
      },
      "outputs": [],
      "source": [
        "class mIoULoss(nn.Module):\n",
        "    def __init__(self, weight=None, size_average=True, n_classes=2):\n",
        "        super(mIoULoss, self).__init__()\n",
        "        self.classes = n_classes\n",
        "\n",
        "    def to_one_hot(self, tensor):\n",
        "        n,h,w = tensor.size()\n",
        "        one_hot = torch.zeros(n,self.classes,h,w).to(tensor.device).scatter_(1,tensor.view(n,1,h,w),1)\n",
        "        return one_hot\n",
        "\n",
        "    def forward(self, inputs, target):\n",
        "        # inputs => N x Classes x H x W\n",
        "        # target_oneHot => N x Classes x H x W\n",
        "\n",
        "        N = inputs.size()[0]\n",
        "\n",
        "        # predicted probabilities for each pixel along channel\n",
        "        inputs = F.softmax(inputs,dim=1)\n",
        "        \n",
        "        # Numerator Product\n",
        "        target_oneHot = self.to_one_hot(target)\n",
        "        inter = inputs * target_oneHot\n",
        "        ## Sum over all pixels N x C x H x W => N x C\n",
        "        inter = inter.view(N,self.classes,-1).sum(2)\n",
        "        # c_m = confusion_matrix(target_oneHot, inputs)\n",
        "        print(\"inter\", inter)\n",
        "\n",
        "        #Denominator \n",
        "        union= inputs + target_oneHot - (inputs*target_oneHot)\n",
        "        ## Sum over all pixels N x C x H x W => N x C\n",
        "        union = union.view(N,self.classes,-1).sum(2)\n",
        "\n",
        "        loss = inter/union\n",
        "\n",
        "        ## Return average loss over classes and batch\n",
        "        return 1-loss.mean()"
      ]
    },
    {
      "cell_type": "code",
      "execution_count": null,
      "metadata": {
        "id": "QccZeT3peOXx"
      },
      "outputs": [],
      "source": [
        "criterion = mIoULoss(n_classes=27).to(device)"
      ]
    },
    {
      "cell_type": "markdown",
      "metadata": {
        "id": "BsVzjOmzHRVp"
      },
      "source": [
        "#### Dice loss"
      ]
    },
    {
      "cell_type": "code",
      "execution_count": null,
      "metadata": {
        "id": "k89lw0f9HT8z"
      },
      "outputs": [],
      "source": [
        "def one_hot_encoding(target,number_of_classes):\n",
        "  batch_size_tmp = target.shape[0]\n",
        "  new_true = torch.zeros((target.shape[0],\n",
        "                          number_of_classes,\n",
        "                          target.shape[1],\n",
        "                          target.shape[2]))\n",
        "\n",
        "  for b in range(batch_size_tmp):\n",
        "    annotation = target[b]\n",
        "    for i in range(number_of_classes):\n",
        "      one_hot = torch.zeros((target.shape[1],target.shape[2]))\n",
        "      one_hot[annotation==i] = 1\n",
        "      new_true[b,i] = one_hot\n",
        "  return new_true\n",
        "\n",
        "def compute_per_channel_dice(input, target, epsilon=1e-5, ignore_index=None, weight=None):\n",
        "    # assumes that input is a normalized probability\n",
        "    target = one_hot_encoding(target,27)#num_of_classes)\n",
        "    \n",
        "    # input and target shapes must match\n",
        "    assert input.size() == target.size(), \"'input' and 'target' must have the same shape\"\n",
        "\n",
        "    # mask ignore_index if present\n",
        "    if ignore_index is not None:\n",
        "        mask = target.clone().ne_(ignore_index)\n",
        "        mask.requires_grad = False\n",
        "\n",
        "        input = input * mask\n",
        "        target = target * mask\n",
        "\n",
        "    input = torch.flatten(input).to(device)\n",
        "    target = torch.flatten(target).to(device)\n",
        "    \n",
        "    target = target.float()\n",
        "    # Compute per channel Dice Coefficient\n",
        "    intersect = (input * target).sum(-1)\n",
        "    if weight is not None:\n",
        "        intersect = weight * intersect\n",
        "    # print(\"target\", target)\n",
        "    # print(\"input\", F.softmax(input,dim=1))\n",
        "    # c_m = confusion_matrix(target.cpu().detach(), input.cpu().detach())\n",
        "    # print(\"cm\",c_m)\n",
        "\n",
        "    denominator = (input + target).sum(-1)\n",
        "    return 2. * intersect / denominator.clamp(min=epsilon)\n",
        "\n",
        "from torch.autograd import Variable\n",
        "from torch.nn import MSELoss, SmoothL1Loss, L1Loss\n",
        "\n",
        "\n",
        "class DiceLoss(nn.Module):\n",
        "    \"\"\"Computes Dice Loss, which just 1 - DiceCoefficient described above.\n",
        "    Additionally allows per-class weights to be provided.\n",
        "    \"\"\"\n",
        "\n",
        "    def init(self, epsilon=1e-5, weight=None, ignore_index=None, sigmoid_normalization=True,\n",
        "                 skip_last_target=False):\n",
        "        #super(DiceLoss, self).init()\n",
        "        self.epsilon = epsilon\n",
        "        self.register_buffer('weight', weight)\n",
        "        self.ignore_index = ignore_index\n",
        "        self.weight = weight\n",
        "        # The output from the network during training is assumed to be un-normalized probabilities and we would\n",
        "        # like to normalize the logits. Since Dice (or soft Dice in this case) is usually used for binary data,\n",
        "        # normalizing the channels with Sigmoid is the default choice even for multi-class segmentation problems.\n",
        "        # However if one would like to apply Softmax in order to get the proper probability distribution from the\n",
        "        # output, just specify sigmoid_normalization=False.\n",
        "        #self.normalization = nn.Sigmoid()\n",
        "        #if sigmoid_normalization:\n",
        "        #    self.normalization = nn.Sigmoid()\n",
        "        #else:\n",
        "        #self.normalization = nn.Softmax(dim=1)\n",
        "        # if True skip the last channel in the target\n",
        "        self.skip_last_target = skip_last_target\n",
        "\n",
        "    def forward(self, input, target):\n",
        "        # get probabilities from logits\n",
        "        normalization = torch.nn.Softmax(dim=1)\n",
        "        input = normalization(input)\n",
        "        weight = None\n",
        "\n",
        "        per_channel_dice = compute_per_channel_dice(input, target, epsilon=1e-5, ignore_index=None,\n",
        "                                                    weight=weight)\n",
        "        # Average the Dice score across all channels/classes\n",
        "        return torch.mean(1. - per_channel_dice)"
      ]
    },
    {
      "cell_type": "code",
      "execution_count": null,
      "metadata": {
        "id": "jBlPkMS7HlOa"
      },
      "outputs": [],
      "source": [
        "device = torch.device(\"cuda\" if torch.cuda.is_available() else \"cpu\")\n",
        "criterion = DiceLoss().to(device)"
      ]
    },
    {
      "cell_type": "markdown",
      "metadata": {
        "id": "YSQsQZvaeXNV"
      },
      "source": [
        "## Training"
      ]
    },
    {
      "cell_type": "code",
      "execution_count": 31,
      "metadata": {
        "id": "HODPxuHveax4"
      },
      "outputs": [],
      "source": [
        "def acc(label, predicted):\n",
        "  seg_acc = (y.cpu() == torch.argmax(pred_mask, axis=1).cpu()).sum() / torch.numel(y.cpu())\n",
        "  return seg_acc"
      ]
    },
    {
      "cell_type": "code",
      "execution_count": null,
      "metadata": {
        "id": "ZLKGQgDceeom"
      },
      "outputs": [],
      "source": [
        "# run Unet model\n",
        "min_loss = torch.tensor(float('inf'))\n",
        "device = torch.device(\"cuda\" if torch.cuda.is_available() else \"cpu\")\n",
        "criterion = FocalLoss(gamma=3/4).to(device)\n",
        "model = UNet(n_channels=3, n_classes=27, bilinear=True).to(device)\n",
        "optimizer = torch.optim.Adam(model.parameters(), lr=0.01)\n",
        "lr_scheduler = torch.optim.lr_scheduler.StepLR(optimizer, step_size=1, gamma=0.5)"
      ]
    },
    {
      "cell_type": "code",
      "source": [
        "# run ResNet101 model\n",
        "\n",
        "# Set device: `cuda` or `cpu`\n",
        "DEVICE = torch.device(\"cuda\" if torch.cuda.is_available() else \"cpu\")\n",
        "model = model.to(DEVICE)\n",
        "criterion = FocalLoss(gamma=3/4).to(DEVICE)\n",
        "\n",
        "# define metrics\n",
        "metrics = [\n",
        "    utils.metrics.IoU(threshold=0.5),\n",
        "]\n",
        "\n",
        "# define optimizer\n",
        "optimizer = torch.optim.Adam([ \n",
        "    dict(params=model.parameters(), lr=0.001),\n",
        "])\n",
        "\n",
        "# define learning rate scheduler (not used in this NB)\n",
        "lr_scheduler = torch.optim.lr_scheduler.CosineAnnealingWarmRestarts(\n",
        "    optimizer, T_0=1, T_mult=2, eta_min=5e-5,\n",
        ")"
      ],
      "metadata": {
        "id": "ShsCE3WO7_9_"
      },
      "execution_count": null,
      "outputs": []
    },
    {
      "cell_type": "code",
      "source": [
        "min_loss = torch.tensor(float('inf'))\n",
        "total_loss_list = []\n",
        "total_acc_list = []\n",
        "total_val_loss_list = []\n",
        "total_val_acc_list = []"
      ],
      "metadata": {
        "id": "oUBjy2XHu360"
      },
      "execution_count": null,
      "outputs": []
    },
    {
      "cell_type": "code",
      "execution_count": null,
      "metadata": {
        "id": "sCzQ48Aoejq3"
      },
      "outputs": [],
      "source": [
        "os.makedirs('./saved_models', exist_ok=True)\n",
        "\n",
        "N_EPOCHS = 5\n",
        "N_DATA = len(train_dataset)\n",
        "N_TEST = len(val_dataset)\n",
        "\n",
        "plot_losses = []\n",
        "scheduler_counter = 0\n",
        "\n",
        "\n",
        "loss_list = []\n",
        "acc_list = []\n",
        "val_loss_list = []\n",
        "val_acc_list = []\n",
        "for epoch in range(N_EPOCHS):\n",
        "  # training\n",
        "  model.train()\n",
        "  loss_list = []\n",
        "  acc_list = []\n",
        "  for batch_i, (x, y) in enumerate(train_dataloader):\n",
        "\n",
        "\n",
        "      pred_mask = model(x.to(device).to(torch.float32)) \n",
        "      pred_mask = pred_mask.to(torch.float32)\n",
        "\n",
        "      loss = criterion(pred_mask, y.to(device).to(torch.int64))\n",
        "\n",
        "\n",
        "      optimizer.zero_grad()\n",
        "      loss.backward()\n",
        "      optimizer.step()\n",
        "      loss_list.append(loss.cpu().detach().numpy())\n",
        "      acc_list.append(acc(y,pred_mask).numpy())\n",
        "\n",
        "      sys.stdout.write(\n",
        "          \"\\r[Epoch %d/%d] [Batch %d/%d] [Loss: %f (%f)]\"\n",
        "          % (\n",
        "              epoch,\n",
        "              N_EPOCHS,\n",
        "              batch_i,\n",
        "              len(train_dataloader),\n",
        "              loss.cpu().detach().numpy(),\n",
        "              np.mean(loss_list),\n",
        "          )\n",
        "      )\n",
        "  scheduler_counter += 1\n",
        "  # testing\n",
        "  model.eval()\n",
        "  val_loss_list = []\n",
        "  val_acc_list = []\n",
        "  for batch_i, (x, y) in enumerate(val_dataloader):\n",
        "      with torch.no_grad():    \n",
        "          pred_mask = model(x.to(device))  \n",
        "      val_loss = criterion(pred_mask, y.to(device).to(torch.int64))\n",
        "      val_loss_list.append(val_loss.cpu().detach().numpy())\n",
        "      val_acc_list.append(acc(y,pred_mask).numpy())\n",
        "    \n",
        "  print(' epoch {} - loss : {:.5f} - acc : {:.2f} - val loss : {:.5f} - val acc : {:.2f}'.format(epoch, \n",
        "                                                                                                 np.mean(loss_list), \n",
        "                                                                                                 np.mean(acc_list), \n",
        "                                                                                                 np.mean(val_loss_list),\n",
        "                                                                                                 np.mean(val_acc_list)))\n",
        "\n",
        "  total_val_loss_list.append(np.mean(val_loss_list))     \n",
        "  total_loss_list.append(np.mean(loss_list))   \n",
        "  plot_losses.append([epoch, np.mean(loss_list), np.mean(val_loss_list)])\n",
        "  compare_loss = np.mean(val_loss_list)\n",
        "  is_best = compare_loss < min_loss\n",
        "  if is_best == True:\n",
        "    scheduler_counter = 0\n",
        "    min_loss = min(compare_loss, min_loss)\n",
        "    torch.save(model.state_dict(), './saved_models/unet_epoch_{}_{:.5f}.pt'.format(epoch,np.mean(val_loss_list)))\n",
        "  \n",
        "  if scheduler_counter > 5:\n",
        "    lr_scheduler.step()\n",
        "    print(f\"lowering learning rate to {optimizer.param_groups[0]['lr']}\")\n",
        "    scheduler_counter = 0\n"
      ]
    },
    {
      "cell_type": "code",
      "execution_count": null,
      "metadata": {
        "colab": {
          "base_uri": "https://localhost:8080/",
          "height": 664
        },
        "id": "zOHJ1Z0ccgXT",
        "outputId": "51177514-5973-4be2-ede3-3d74fee27904"
      },
      "outputs": [
        {
          "output_type": "stream",
          "name": "stdout",
          "text": [
            "14\n",
            "5\n",
            "[array(2.7221406, dtype=float32), array(2.7066002, dtype=float32), array(2.6771908, dtype=float32), array(2.6979985, dtype=float32), array(2.6905777, dtype=float32), array(2.67736, dtype=float32), array(2.707055, dtype=float32), array(2.7030776, dtype=float32), array(2.6668642, dtype=float32), array(2.7188916, dtype=float32), array(2.688739, dtype=float32), array(2.7309484, dtype=float32), array(2.6817293, dtype=float32), array(2.6992478, dtype=float32)]\n",
            "[array(2.5892017, dtype=float32), array(2.620199, dtype=float32), array(2.6188617, dtype=float32), array(2.6126232, dtype=float32), array(2.6207693, dtype=float32)]\n"
          ]
        },
        {
          "output_type": "display_data",
          "data": {
            "text/plain": [
              "<Figure size 432x288 with 1 Axes>"
            ],
            "image/png": "[encoded data removed]"
          },
          "metadata": {
            "needs_background": "light"
          }
        },
        {
          "output_type": "display_data",
          "data": {
            "text/plain": [
              "<Figure size 432x288 with 1 Axes>"
            ],
            "image/png": "[encoded data removed]"
          },
          "metadata": {
            "needs_background": "light"
          }
        }
      ],
      "source": [
        "# plot loss function\n",
        "\n",
        "# importing the required module\n",
        "import matplotlib.pyplot as plt\n",
        "\n",
        "total_train_losses = []\n",
        "total_val_losses = []\n",
        "for i in range (0, len(loss_list)):\n",
        "  total_train_losses.append(loss_list[i])\n",
        "\n",
        "\n",
        "for i in range (0, len(val_loss_list)):\n",
        "  total_val_losses.append(val_loss_list[i])\n",
        "\n",
        "x = np.arange(0, len(total_train_losses), 1)\n",
        "plt.plot(x,total_train_losses, label = \"total_train_losses\", color = \"red\")\n",
        "plt.xlabel('epoch')\n",
        "plt.ylabel('loss rate')\n",
        "plt.title(\"total_train_losses vs total_val_losses\")\n",
        "# plt.plot(x, total_val_losses, label = \"total_val_losses\",color = \"blue\")\n",
        "plt.legend()\n",
        "plt.show()\n",
        "\n",
        "\n",
        "x = np.arange(0, len(total_val_losses), 1)\n",
        "# plt.plot(x,total_train_losses, label = \"total_train_losses\", color = \"red\")\n",
        "plt.xlabel('epoch')\n",
        "plt.ylabel('loss rate')\n",
        "plt.title(\"total_train_losses vs total_val_losses\")\n",
        "plt.plot(x, total_val_losses, label = \"total_val_losses\",color = \"blue\")\n",
        "plt.legend()\n",
        "plt.show()"
      ]
    },
    {
      "cell_type": "markdown",
      "metadata": {
        "id": "eF0QtXNAt7_N"
      },
      "source": [
        "# Submission"
      ]
    },
    {
      "cell_type": "code",
      "execution_count": null,
      "metadata": {
        "id": "0cu5SLn5t66L"
      },
      "outputs": [],
      "source": [
        "\n",
        "\n",
        "idx = 0\n",
        "for batch_i, (x, size) in enumerate(test_dataloader):\n",
        "\n",
        "    for j in range(len(x)):\n",
        "\n",
        "      pre_test = model(x.to(device)[j:j+1].to(torch.float32)) \n",
        "      mask = torch.argmax(pre_test, axis=1).cpu().detach().numpy()[0]\n",
        "\n",
        "      name = test_images_filesnames[idx].replace(\".tif\",\".png\")\n",
        "\n",
        "      predicted_mask = cv2.resize(mask, (shape_list[idx][1], shape_list[idx][0]), \n",
        "                            interpolation = cv2.INTER_NEAREST)\n",
        "      im = Image.fromarray(predicted_mask)\n",
        "      im.save(\"/content/pre_mask7/\"+name)\n",
        "      idx = idx+1\n",
        "\n",
        "      plt.subplot(1,3,3)\n",
        "      plt.imshow(predicted_mask)\n",
        "      plt.show()\n"
      ]
    },
    {
      "cell_type": "code",
      "execution_count": null,
      "metadata": {
        "id": "u3RmMyOoDK5X"
      },
      "outputs": [],
      "source": [
        "tar = tarfile.open(\"/content/submission.tar\", \"w\")  \n",
        "for root, dir, files in os.walk('/content/pre_mask'):\n",
        "\tfor  file in files:\n",
        "\t\tfullpath = os.path.join(root, file)\n",
        "\t\ttar.add(fullpath, arcname=file)\n",
        "tar.close()"
      ]
    }
  ],
  "metadata": {
    "accelerator": "GPU",
    "colab": {
      "collapsed_sections": [
        "UaRzKC0P8fmR",
        "zgj5vWTn84yI",
        "YNrbCQmmEvM6",
        "2QBRMHZ0E3yA",
        "_kc54Q66qpOw",
        "0PXDpjtEdH06",
        "7nmXwHxS9kdo",
        "ImAGMT81dw6P",
        "n_K5VoSdeJZ9"
      ],
      "machine_shape": "hm",
      "provenance": []
    },
    "gpuClass": "premium",
    "kernelspec": {
      "display_name": "Python 3",
      "name": "python3"
    },
    "language_info": {
      "name": "python"
    }
  },
  "nbformat": 4,
  "nbformat_minor": 0
}